{
 "cells": [
  {
   "cell_type": "code",
   "execution_count": 1,
   "id": "48358526",
   "metadata": {},
   "outputs": [],
   "source": [
    "import pandas\n",
    "import numpy as np\n",
    "\n",
    "df = pandas.read_csv('train.csv')"
   ]
  },
  {
   "cell_type": "code",
   "execution_count": 3,
   "id": "408e9423",
   "metadata": {},
   "outputs": [
    {
     "data": {
      "text/plain": [
       "PassengerId     0.000000\n",
       "Survived        0.000000\n",
       "Pclass          0.000000\n",
       "Name            0.000000\n",
       "Sex             0.000000\n",
       "Age            19.865320\n",
       "SibSp           0.000000\n",
       "Parch           0.000000\n",
       "Ticket          0.000000\n",
       "Fare            0.000000\n",
       "Cabin          77.104377\n",
       "Embarked        0.224467\n",
       "dtype: float64"
      ]
     },
     "execution_count": 3,
     "metadata": {},
     "output_type": "execute_result"
    }
   ],
   "source": [
    "df.isnull().sum()\n",
    "\n",
    "(df.isnull().sum() / len(df)) * 100\n"
   ]
  },
  {
   "cell_type": "code",
   "execution_count": 22,
   "id": "d3135e58",
   "metadata": {},
   "outputs": [
    {
     "data": {
      "text/plain": [
       "PassengerId      0\n",
       "Survived         0\n",
       "Pclass           0\n",
       "Name             0\n",
       "Sex              0\n",
       "Age              0\n",
       "SibSp            0\n",
       "Parch            0\n",
       "Ticket           0\n",
       "Fare             0\n",
       "Cabin          687\n",
       "Embarked         0\n",
       "dtype: int64"
      ]
     },
     "execution_count": 22,
     "metadata": {},
     "output_type": "execute_result"
    }
   ],
   "source": [
    "df['Age'].fillna({'Age': df['Age'].mean()})\n",
    "# \n",
    "# \n",
    "df['Embarked'].fillna({'Embarked': df['Embarked'].mode()[0]})\n",
    "\n",
    "df.isnull().sum()"
   ]
  },
  {
   "cell_type": "markdown",
   "id": "ea549d57",
   "metadata": {},
   "source": [
    "## 3. Tratamento de Dados\n",
    "\n",
    "Nesta etapa, identificamos e tratamos os dados ausentes:\n",
    "- A coluna `Age` tinha valores faltantes — usamos a mediana para preencher.\n",
    "- `Embarked` também tinha valores nulos — usamos o valor mais frequente.\n",
    "\n",
    "## 4. Estatística descritiva\n",
    "\n",
    "Realizamos uma análise estatística das colunas numéricas, especialmente `Age` e `Fare`, para entender melhor a distribuição dos dados.\n"
   ]
  },
  {
   "cell_type": "code",
   "execution_count": 24,
   "id": "6a8d24ed",
   "metadata": {},
   "outputs": [
    {
     "name": "stdout",
     "output_type": "stream",
     "text": [
      "Média idade: 29.699117647058817\n",
      "Mediana idade: 29.69911764705882\n",
      "Desvio padrão idade: 3.554709025028464e-15\n",
      "Média tarifa: 32.204207968574636\n",
      "Mediana tarifa: 14.4542\n",
      "Desvio padrão tarifa: 49.6934285971809\n"
     ]
    }
   ],
   "source": [
    "# Média, mediana, desvio padrão de idade e tarifa\n",
    "print(\"Média idade:\", df['Age'].mean())\n",
    "print(\"Mediana idade:\", df['Age'].median())\n",
    "print(\"Desvio padrão idade:\", df['Age'].std())\n",
    "\n",
    "print(\"Média tarifa:\", df['Fare'].mean())\n",
    "print(\"Mediana tarifa:\", df['Fare'].median())\n",
    "print(\"Desvio padrão tarifa:\", df['Fare'].std())"
   ]
  }
 ],
 "metadata": {
  "kernelspec": {
   "display_name": "Python 3",
   "language": "python",
   "name": "python3"
  },
  "language_info": {
   "codemirror_mode": {
    "name": "ipython",
    "version": 3
   },
   "file_extension": ".py",
   "mimetype": "text/x-python",
   "name": "python",
   "nbconvert_exporter": "python",
   "pygments_lexer": "ipython3",
   "version": "3.10.12"
  }
 },
 "nbformat": 4,
 "nbformat_minor": 5
}
